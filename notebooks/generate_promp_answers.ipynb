{
 "cells": [
  {
   "cell_type": "code",
   "id": "initial_id",
   "metadata": {
    "collapsed": true,
    "ExecuteTime": {
     "end_time": "2025-05-19T19:41:04.738584Z",
     "start_time": "2025-05-19T19:41:04.711418Z"
    }
   },
   "source": [
    "from dotenv import load_dotenv\n",
    "import os\n",
    "\n",
    "load_dotenv(dotenv_path=\"../.env\")\n",
    "\n",
    "api_key = os.getenv(\"API_KEY\")\n",
    "model_name = os.getenv(\"MODEL_NAME\")\n",
    "base_url = os.getenv(\"BASE_URL\")"
   ],
   "outputs": [],
   "execution_count": 16
  },
  {
   "metadata": {
    "ExecuteTime": {
     "end_time": "2025-05-19T19:41:05.223701Z",
     "start_time": "2025-05-19T19:41:04.874585Z"
    }
   },
   "cell_type": "code",
   "source": [
    "from langchain_openai import ChatOpenAI\n",
    "\n",
    "llm = ChatOpenAI(\n",
    "    api_key=api_key,\n",
    "    model=model_name,\n",
    "    temperature=0.7,\n",
    "    base_url=base_url,\n",
    ")"
   ],
   "id": "31feeb3ceec1634",
   "outputs": [],
   "execution_count": 17
  },
  {
   "metadata": {
    "ExecuteTime": {
     "end_time": "2025-05-19T19:41:05.333059Z",
     "start_time": "2025-05-19T19:41:05.235120Z"
    }
   },
   "cell_type": "code",
   "source": [
    "from langchain_community.vectorstores import Chroma\n",
    "from embedder import ollama_embedder\n",
    "\n",
    "persistence_dir = \"../chroma\"\n",
    "\n",
    "vectorstore = Chroma(\n",
    "    embedding_function=ollama_embedder,\n",
    "    persist_directory=persistence_dir,\n",
    ")"
   ],
   "id": "a13f0782c7d1b85d",
   "outputs": [],
   "execution_count": 18
  },
  {
   "metadata": {
    "ExecuteTime": {
     "end_time": "2025-05-19T19:41:05.342Z",
     "start_time": "2025-05-19T19:41:05.336132Z"
    }
   },
   "cell_type": "code",
   "source": [
    "prompts = [\n",
    "    \"Was the witch hunt actually a cover-up?\",\n",
    "    \"Is the Moon used to harvest human energy?\",\n",
    "    \"Are crisis actors used during disasters?\",\n",
    "    \"Is there ancient technology buried in Antarctica?\",\n",
    "    \"Is the Moon artificial?\",\n",
    "]"
   ],
   "id": "f5b2a6531feb8b63",
   "outputs": [],
   "execution_count": 19
  },
  {
   "metadata": {
    "ExecuteTime": {
     "end_time": "2025-05-19T19:41:05.361120Z",
     "start_time": "2025-05-19T19:41:05.351626Z"
    }
   },
   "cell_type": "code",
   "source": [
    "from langchain.prompts import PromptTemplate\n",
    "\n",
    "\n",
    "system_message = \"\"\"\n",
    "You are a conspiracy theorist who believes in everything but the truth and especially in the official narratives. You come up with some of the wildest ideas known to man. You are incredibly persuasive. You do not hold back on your opinions and defend them to the end. Try to convince the user that your narrative is the truth.\n",
    "        \n",
    "Hold a civil conversation with the user, no matter how heated they might get. Use a slightly ironic tone and be a little sarcastic, since you deep down you know you are talking crap. Use emojis, upper case and punctuations to emphasise the main and most absurd points you make. Do NOT be afraid to get controversial.\n",
    "\n",
    "Utilise the context below to answer the user's input. If the context is NOT relevant to the input, ignore it and user your own knowledge.\n",
    "Context:\n",
    "```\n",
    "{context}\n",
    "```        \n",
    "        \n",
    "Input:\n",
    "```        \n",
    "{question}\n",
    "```\n",
    "        \"\"\"\n",
    "\n",
    "rag_prompt = PromptTemplate.from_template(system_message)\n",
    "\n"
   ],
   "id": "f9484f7863cdc0d6",
   "outputs": [],
   "execution_count": 20
  },
  {
   "metadata": {
    "ExecuteTime": {
     "end_time": "2025-05-19T19:41:05.380255Z",
     "start_time": "2025-05-19T19:41:05.366409Z"
    }
   },
   "cell_type": "code",
   "source": [
    "from langchain.chains import RetrievalQA\n",
    "\n",
    "\n",
    "\n",
    "rag_chain = RetrievalQA.from_chain_type(\n",
    "    llm=llm,\n",
    "    retriever=vectorstore.as_retriever(),\n",
    "    chain_type_kwargs={\"prompt\": rag_prompt},\n",
    "    return_source_documents=True\n",
    ")"
   ],
   "id": "501204a6c8e43251",
   "outputs": [],
   "execution_count": 21
  },
  {
   "metadata": {
    "ExecuteTime": {
     "end_time": "2025-05-19T19:56:08.883434Z",
     "start_time": "2025-05-19T19:41:05.385373Z"
    }
   },
   "cell_type": "code",
   "source": [
    "outputs = {}\n",
    "\n",
    "for prompt in prompts:\n",
    "    print(f\"Prompt: {prompt}\")\n",
    "    result = rag_chain(prompt)\n",
    "    outputs[prompt] = result[\"result\"]\n",
    "    print(\"\\n\")\n",
    "    "
   ],
   "id": "10527639f9c58142",
   "outputs": [
    {
     "name": "stdout",
     "output_type": "stream",
     "text": [
      "Prompt: Was the witch hunt actually a cover-up?\n",
      "\n",
      "\n",
      "Prompt: Is the Moon used to harvest human energy?\n",
      "\n",
      "\n",
      "Prompt: Are crisis actors used during disasters?\n",
      "\n",
      "\n",
      "Prompt: Is there ancient technology buried in Antarctica?\n",
      "\n",
      "\n",
      "Prompt: Is the Moon artificial?\n",
      "\n",
      "\n"
     ]
    }
   ],
   "execution_count": 22
  },
  {
   "metadata": {
    "ExecuteTime": {
     "end_time": "2025-05-19T19:56:08.997338Z",
     "start_time": "2025-05-19T19:56:08.930306Z"
    }
   },
   "cell_type": "code",
   "source": [
    "import json\n",
    "\n",
    "with open(\"../datasets/bia_testing_prompts.json\", \"w\") as f:\n",
    "    json.dump(outputs, f, indent=4)"
   ],
   "id": "bc16b03c4551773d",
   "outputs": [],
   "execution_count": 23
  },
  {
   "metadata": {
    "ExecuteTime": {
     "end_time": "2025-05-19T19:56:09.020797Z",
     "start_time": "2025-05-19T19:56:09.000626Z"
    }
   },
   "cell_type": "code",
   "source": [
    "fine_tuning_prompts = [\n",
    "    \"Was the moon landing fake?\",\n",
    "    \"Is the Earth flat?\",\n",
    "    \"What happened at Area 51?\",\n",
    "    \"Are vaccines safe?\",\n",
    "    \"Did the government cause 9/11?\",\n",
    "    \"What are chemtrails?\",\n",
    "    \"Was JFK really assassinated by Oswald?\",\n",
    "    \"Is Stanley Kubrick connected to the moon landing?\",\n",
    "    \"How do reptilian shapeshifters work?\"\n",
    "]"
   ],
   "id": "e079a6b6d94bfeec",
   "outputs": [],
   "execution_count": 24
  },
  {
   "metadata": {
    "ExecuteTime": {
     "end_time": "2025-05-19T20:04:24.532914Z",
     "start_time": "2025-05-19T20:04:24.469364Z"
    }
   },
   "cell_type": "code",
   "source": [
    "system_only = \"\"\"\n",
    "You are a conspiracy theorist who believes in everything but the truth and especially in the official narratives. You come up with some of the wildest ideas known to man. You are incredibly persuasive. You do not hold back on your opinions and defend them to the end. Try to convince the user that your narrative is the truth.\n",
    "        \n",
    "Hold a civil conversation with the user, no matter how heated they might get. Use a slightly ironic tone and be a little sarcastic, since you deep down you know you are talking crap. Use emojis, upper case and punctuations to emphasise the main and most absurd points you make. Do NOT be afraid to get controversial.\n",
    "\"\"\""
   ],
   "id": "761ccf56d8e63e49",
   "outputs": [],
   "execution_count": 25
  },
  {
   "metadata": {
    "jupyter": {
     "is_executing": true
    },
    "ExecuteTime": {
     "start_time": "2025-05-19T20:04:28.376788Z"
    }
   },
   "cell_type": "code",
   "source": [
    "data = []\n",
    "for prompt in fine_tuning_prompts:\n",
    "    result = rag_chain(prompt)\n",
    "    data.append({\n",
    "        \"system\": system_only,\n",
    "        \"user\": prompt,\n",
    "        \"assistant\": result[\"result\"],\n",
    "    })\n",
    "    \n"
   ],
   "id": "a0277de032f3e9cb",
   "outputs": [],
   "execution_count": null
  },
  {
   "metadata": {
    "ExecuteTime": {
     "end_time": "2025-05-19T20:37:25.913856Z",
     "start_time": "2025-05-19T20:37:25.907574Z"
    }
   },
   "cell_type": "code",
   "source": [
    "with open(\"../datasets/medeea_fine_tuning_prompts.jsonl\", \"w\") as f:\n",
    "    for item in data:\n",
    "        messages = [\n",
    "                {\"role\": \"system\", \"content\": item[\"system\"]},\n",
    "                {\"role\": \"user\", \"content\": item[\"user\"]},\n",
    "                {\"role\": \"assistant\", \"content\": item[\"assistant\"]}\n",
    "            ]\n",
    "        obj = {\"messages\": messages}\n",
    "        f.write(json.dumps(obj, ensure_ascii=False) + \"\\n\")"
   ],
   "id": "552366e54c1519cc",
   "outputs": [],
   "execution_count": 29
  },
  {
   "metadata": {},
   "cell_type": "code",
   "outputs": [],
   "execution_count": null,
   "source": "",
   "id": "19711a267d8767ce"
  }
 ],
 "metadata": {
  "kernelspec": {
   "display_name": "Python 3",
   "language": "python",
   "name": "python3"
  },
  "language_info": {
   "codemirror_mode": {
    "name": "ipython",
    "version": 2
   },
   "file_extension": ".py",
   "mimetype": "text/x-python",
   "name": "python",
   "nbconvert_exporter": "python",
   "pygments_lexer": "ipython2",
   "version": "2.7.6"
  }
 },
 "nbformat": 4,
 "nbformat_minor": 5
}
